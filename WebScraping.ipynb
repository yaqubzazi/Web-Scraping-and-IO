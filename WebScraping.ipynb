{
  "cells": [
    {
      "cell_type": "markdown",
      "metadata": {
        "id": "Afj9xszlBhOk"
      },
      "source": [
        "\n",
        "## Web scraping and IO"
      ]
    },
    {
      "cell_type": "code",
      "execution_count": null,
      "metadata": {
        "id": "O3XC0cVrBhOo"
      },
      "outputs": [],
      "source": [
        "import pandas as pd"
      ]
    },
    {
      "cell_type": "code",
      "execution_count": null,
      "metadata": {
        "id": "ecRo9T7cBhOm"
      },
      "outputs": [],
      "source": [
        "import numpy as np\n",
        "import matplotlib.pyplot as plt"
      ]
    },
    {
      "cell_type": "code",
      "source": [
        "data = pd.read_html('https://www.macrotrends.net/1319/dow-jones-100-year-historical-chart')\n",
        "df = data[0]\n",
        "df1 = data[1]"
      ],
      "metadata": {
        "id": "nnYd0b195BUa"
      },
      "execution_count": null,
      "outputs": []
    },
    {
      "cell_type": "code",
      "source": [
        "len(data)"
      ],
      "metadata": {
        "id": "ueVzUEy0Dxmf"
      },
      "execution_count": null,
      "outputs": []
    },
    {
      "cell_type": "code",
      "source": [
        "df  # The general set of data"
      ],
      "metadata": {
        "id": "xw7qj8ae5BOU"
      },
      "execution_count": null,
      "outputs": []
    },
    {
      "cell_type": "code",
      "source": [
        "data[2]  # Useless data"
      ],
      "metadata": {
        "id": "a10848tp5BKa"
      },
      "execution_count": null,
      "outputs": []
    },
    {
      "cell_type": "code",
      "source": [
        "df1  # Also useless"
      ],
      "metadata": {
        "id": "uidqQqm3vl-j"
      },
      "execution_count": null,
      "outputs": []
    },
    {
      "cell_type": "markdown",
      "source": [
        "- This above set of code was just to understand what the data is looking like. There seemed to be 3 sets of data but when the second and third sets of data were brought up, there isn't anything important. Those two seem to be just giving the websites title and the name of the website both times so our analysis will not be using those two data frames."
      ],
      "metadata": {
        "id": "oQULgNenvnTE"
      }
    },
    {
      "cell_type": "code",
      "source": [
        "df.columns  # Shows the names for all the columns in the dataframe"
      ],
      "metadata": {
        "id": "dWMDj9QujS_p"
      },
      "execution_count": null,
      "outputs": []
    },
    {
      "cell_type": "code",
      "source": [
        "columns = list(df.columns)"
      ],
      "metadata": {
        "id": "67lwIrs05AZb"
      },
      "execution_count": null,
      "outputs": []
    },
    {
      "cell_type": "code",
      "source": [
        "print(columns[6])"
      ],
      "metadata": {
        "id": "CKcWWr8Rr-0a"
      },
      "execution_count": null,
      "outputs": []
    },
    {
      "cell_type": "code",
      "source": [
        "print(columns[4])"
      ],
      "metadata": {
        "id": "iJCJzWOHA5pX"
      },
      "execution_count": null,
      "outputs": []
    },
    {
      "cell_type": "code",
      "source": [
        "df['Dow Jones Industrial Average - Historical Annual Data', 'Annual % Change']"
      ],
      "metadata": {
        "id": "4RiHteq_I4K0"
      },
      "execution_count": null,
      "outputs": []
    },
    {
      "cell_type": "code",
      "source": [
        "df['Dow Jones Industrial Average - Historical Annual Data', 'Annual % Change'].min()  # Will output incorrect value"
      ],
      "metadata": {
        "id": "FFJyXF9ZRFJT"
      },
      "execution_count": null,
      "outputs": []
    },
    {
      "cell_type": "code",
      "source": [
        "df.describe()  # Does not contain Annual % Change in description"
      ],
      "metadata": {
        "id": "cOrzCzhORWdO"
      },
      "execution_count": null,
      "outputs": []
    },
    {
      "cell_type": "code",
      "source": [
        "percent_change = df['Dow Jones Industrial Average - Historical Annual Data', 'Annual % Change'].str.replace('%','').astype(float)\n",
        "percent_change"
      ],
      "metadata": {
        "id": "3-qJ-Ck6nub2"
      },
      "execution_count": null,
      "outputs": []
    },
    {
      "cell_type": "code",
      "source": [
        "percent_change.min()"
      ],
      "metadata": {
        "id": "QL0aTsCrs5ZV"
      },
      "execution_count": null,
      "outputs": []
    },
    {
      "cell_type": "code",
      "source": [
        "percent_change.max()"
      ],
      "metadata": {
        "id": "9o8jnaDevfrk"
      },
      "execution_count": null,
      "outputs": []
    },
    {
      "cell_type": "code",
      "source": [
        "percent_change.mean()"
      ],
      "metadata": {
        "id": "6rLpFY1yMaAg"
      },
      "execution_count": null,
      "outputs": []
    },
    {
      "cell_type": "code",
      "source": [
        "df.describe()"
      ],
      "metadata": {
        "id": "vcj2IBGSMfkf"
      },
      "execution_count": null,
      "outputs": []
    },
    {
      "cell_type": "code",
      "source": [
        "df['Dow Jones Industrial Average - Historical Annual Data', 'Annual % Change'] = percent_change"
      ],
      "metadata": {
        "id": "_Qc2vl97O_qz"
      },
      "execution_count": null,
      "outputs": []
    },
    {
      "cell_type": "code",
      "source": [
        "df.describe()"
      ],
      "metadata": {
        "id": "_3g1pPFsPEa1"
      },
      "execution_count": null,
      "outputs": []
    },
    {
      "cell_type": "markdown",
      "source": [
        "- This last chunk of code had a lot to it so I will break it down. To edit and analyze different columns or rows of data in the data frame, the column or row has to be called upon in the code. When looking at the column name with the original `data` command, there are spaces in all the columns but the column of interest was Annual % Change. There would be a syntax error if you were to use something along the lines of data.Annual % Change. Using the `data.columns` functions can help provide what the names are for the columns but that also ran into an error because it would not provide the full column name and instead substitute it with **...** after character limit was reached.\n",
        "- I then assigned the variable `columns` into a list and manually chose the column by printing the 7th value, which is the Annual % Change column. The code then returns that long name and now we finally get to see just that specific column. There were a couple of problems however. The % signs that were in the column values were making the values a string and using the `min` function and the `describe` function, Python could not calculate the right values or did not calculate anything at all.\n",
        "- With those issues what had to be done was the % sign to be removed from the values and then the values are set to be a float. That helped determine the correct `min` and `max` values. Then the `percent_change` variable is set to equal the columns with the % change, which then became a factor with the `.describe` function.\n"
      ],
      "metadata": {
        "id": "3f7PLGWxPJD9"
      }
    },
    {
      "cell_type": "code",
      "source": [
        "percent_change.plot(xticks = df['Dow Jones Industrial Average - Historical Annual Data', 'Year'])\n",
        "plt.ylabel('Annual % Change')\n",
        "plt.xlabel('Year')\n",
        "plt.show()"
      ],
      "metadata": {
        "id": "jpaacFkt-Dau"
      },
      "execution_count": null,
      "outputs": []
    },
    {
      "cell_type": "markdown",
      "source": [
        "Yikes, this is not what we want."
      ],
      "metadata": {
        "id": "VUxnCgwOGwPP"
      }
    },
    {
      "cell_type": "code",
      "source": [
        "plt.plot(df['Dow Jones Industrial Average - Historical Annual Data', 'Year'], df['Dow Jones Industrial Average - Historical Annual Data', 'Annual % Change'], color = 'k')\n",
        "plt.xlabel('Year')\n",
        "plt.ylabel('Annual % Change')\n",
        "plt.show()"
      ],
      "metadata": {
        "id": "wbaIQu2LQsNa"
      },
      "execution_count": null,
      "outputs": []
    },
    {
      "cell_type": "code",
      "source": [
        "plt.plot(df['Dow Jones Industrial Average - Historical Annual Data', 'Year'], df['Dow Jones Industrial Average - Historical Annual Data', 'Average Closing Price'])\n",
        "plt.xlabel('Year')\n",
        "plt.ylabel('Average Closing Price')\n",
        "plt.show()"
      ],
      "metadata": {
        "id": "4B8k_ulASx5V"
      },
      "execution_count": null,
      "outputs": []
    },
    {
      "cell_type": "code",
      "source": [
        "plt.plot(df['Dow Jones Industrial Average - Historical Annual Data', 'Year'], df['Dow Jones Industrial Average - Historical Annual Data', 'Year High'], label='Year High')\n",
        "plt.plot(df['Dow Jones Industrial Average - Historical Annual Data', 'Year'], df['Dow Jones Industrial Average - Historical Annual Data', 'Year Low'], label= 'Year Low')\n",
        "plt.legend()\n",
        "plt.xlabel('Year')\n",
        "plt.ylabel('Average Closing Price')\n",
        "plt.show()"
      ],
      "metadata": {
        "id": "gYfoTTrRe161"
      },
      "execution_count": null,
      "outputs": []
    },
    {
      "cell_type": "markdown",
      "source": [
        "- This is the next step I believe in analyzing data is to start visualizing it. The first graph gives us a good sense of how the market is performing in terms of the amount in percentage it changes. Whether it be a negative gain or a positive one. What is interesting about that graph is how much more volatile it was in the earlier years compared to the later ones. This does make sense because of a stock being harder to move when it is valued higher but it is cool to see visually.\n",
        "- The next graph gives us a look of how compounding interest works. The Dow Jones looks flat for a long portion of time and then spikes but that is due to the fact that the market compounds and it shows why people should wait a long time to build wealth for retirment.\n",
        "- The last graph plots the year high and the year low with each other. I thought it was cool to see the both of them and the differences that may occur"
      ],
      "metadata": {
        "id": "pMkLa-vPU9zQ"
      }
    },
    {
      "cell_type": "code",
      "source": [
        "df.to_csv('dow_jones_csv')"
      ],
      "metadata": {
        "id": "L_Tx5mpAjXFt"
      },
      "execution_count": null,
      "outputs": []
    },
    {
      "cell_type": "code",
      "source": [
        "df_new = pd.read_csv('dow_jones_csv')"
      ],
      "metadata": {
        "id": "UcOdpU8Qjiah"
      },
      "execution_count": null,
      "outputs": []
    },
    {
      "cell_type": "code",
      "source": [
        "df_new"
      ],
      "metadata": {
        "id": "eC6AKDrNjrhC"
      },
      "execution_count": null,
      "outputs": []
    }
  ],
  "metadata": {
    "kernelspec": {
      "display_name": "Python 3",
      "language": "python",
      "name": "python3"
    },
    "language_info": {
      "codemirror_mode": {
        "name": "ipython",
        "version": 3
      },
      "file_extension": ".py",
      "mimetype": "text/x-python",
      "name": "python",
      "nbconvert_exporter": "python",
      "pygments_lexer": "ipython3",
      "version": "3.8.6"
    },
    "colab": {
      "provenance": []
    }
  },
  "nbformat": 4,
  "nbformat_minor": 0
}